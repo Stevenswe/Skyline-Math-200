{
  "nbformat": 4,
  "nbformat_minor": 0,
  "metadata": {
    "colab": {
      "provenance": [],
      "include_colab_link": true
    },
    "kernelspec": {
      "name": "python3",
      "display_name": "Python 3"
    },
    "language_info": {
      "name": "python"
    }
  },
  "cells": [
    {
      "cell_type": "markdown",
      "metadata": {
        "id": "view-in-github",
        "colab_type": "text"
      },
      "source": [
        "<a href=\"https://colab.research.google.com/github/Stevenswe/Skyline-Math-200/blob/main/Python_Notebook_Setup_by_.ipynb\" target=\"_parent\"><img src=\"https://colab.research.google.com/assets/colab-badge.svg\" alt=\"Open In Colab\"/></a>"
      ]
    },
    {
      "cell_type": "markdown",
      "source": [
        "Research Question # __ : Include question here"
      ],
      "metadata": {
        "id": "RaflRRFg5e8L"
      }
    },
    {
      "cell_type": "code",
      "execution_count": null,
      "metadata": {
        "id": "U2T9urK-5ZAe"
      },
      "outputs": [],
      "source": [
        "import pandas as pd\n",
        "import matplotlib.pyplot as plt\n",
        "import seaborn as sns"
      ]
    },
    {
      "cell_type": "code",
      "source": [
        "url='https://drive.google.com/file/d/1IbHzUMYKFBkmW3TIvryP7XJlW-WkmGEw/view?usp=sharing'\n",
        "path= 'https://drive.google.com/uc?export=download&id='+url.split('/')[-2]\n",
        "df = pd.read_csv(path)\n",
        "df.head()"
      ],
      "metadata": {
        "id": "Hq7jBgXZ5p7g"
      },
      "execution_count": null,
      "outputs": []
    },
    {
      "cell_type": "markdown",
      "source": [
        "Codebook 1"
      ],
      "metadata": {
        "id": "P2Vacu7L52PB"
      }
    },
    {
      "cell_type": "code",
      "source": [
        "#Manage data for variable 1\n"
      ],
      "metadata": {
        "id": "BGXegclY57pS"
      },
      "execution_count": null,
      "outputs": []
    },
    {
      "cell_type": "code",
      "source": [
        "#Graphs and tables or statistics"
      ],
      "metadata": {
        "id": "Q1Pv5DMz5-2C"
      },
      "execution_count": null,
      "outputs": []
    },
    {
      "cell_type": "markdown",
      "source": [
        "Codebook 2:"
      ],
      "metadata": {
        "id": "wZC59jy36Ecy"
      }
    },
    {
      "cell_type": "code",
      "source": [
        "#Manage data for variable 1"
      ],
      "metadata": {
        "id": "1N6BlzE76JZJ"
      },
      "execution_count": null,
      "outputs": []
    },
    {
      "cell_type": "code",
      "source": [
        "#Graphs and tables or statistics"
      ],
      "metadata": {
        "id": "zLkanovP6L9s"
      },
      "execution_count": null,
      "outputs": []
    }
  ]
}